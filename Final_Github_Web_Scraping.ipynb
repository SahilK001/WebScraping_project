{
 "cells": [
  {
   "cell_type": "markdown",
   "id": "765a51ee",
   "metadata": {},
   "source": [
    " # Scraping Top Repositories for topics on github\n",
    " \n",
    " TODO:\n",
    " 1. Introduction to web Scraping:> Web scraping (or data scraping) is a technique used to collect content and data from the internet. This data is usually saved in a local file so that it can be manipulated and analyzed as needed. If you’ve ever copied and pasted content from a website into an Excel spreadsheet, this is essentially what web scraping is, but on a very small scale.However, when people refer to ‘web scrapers,’ they’re usually talking about software applications. Web scraping applications (or ‘bots’) are programmed to visit websites, grab the relevant pages and extract useful information. By automating this process, these bots can extract huge amounts of data in a very short time. This has obvious benefits in the digital age, when big data—which is constantly updating and changing—plays such a prominent role.\n",
    " 2. Introduction to Github:> GitHub is an increasingly popular programming resource used for code sharing. It's a social networking site for programmers that many companies and organizations use to facilitate project management and collaboration. According to statistics collected in October 2020, it is the most prominent source code host, with over 60 million new repositories created in 2020 and boasting over 56 million total developers.\n",
    " 3. Tools:> Python, requests, Pandas,Jupyter Notebook.\n",
    " \n",
    " Project Summary:\n",
    "- We're going to scrape https://github.com/topics\n",
    "- We will get list of topics. For each topic we get topic title, topic page URL and topic description\n",
    "- For each topic, we will get the top 25 repositries in the topic from the topic page\n",
    "- For each repo, we will grap the repo name, username, stars and repo URL\n",
    "- For each topic we'll create a CSV file in the following \n",
    "\n",
    "\n",
    "    format:\n",
    "    Repo Name,Username,Stars,Repo URL\n",
    "    three.js,mrdoob,69700,https://github.com/mrdoob/three.js\n",
    "    libgdx,libgdx,18300,https://github.com/libgdx/libgdx "
   ]
  },
  {
   "cell_type": "markdown",
   "id": "67f9d1d7",
   "metadata": {},
   "source": [
    "## Scrape the list of topics from GIthub\n",
    "The steps will be followed:\n",
    "- use requests to download the page\n",
    "- use BS4 to parse and extract information\n",
    "- convert to a pandas dataframe"
   ]
  },
  {
   "cell_type": "markdown",
   "id": "e505c562",
   "metadata": {},
   "source": [
    "#### Lets write a function to download the page"
   ]
  },
  {
   "cell_type": "code",
   "execution_count": 21,
   "id": "3b2c1804",
   "metadata": {},
   "outputs": [],
   "source": [
    "import requests\n",
    "from bs4 import BeautifulSoup\n",
    "import pandas as pd"
   ]
  },
  {
   "cell_type": "code",
   "execution_count": 4,
   "id": "db2d1d8c",
   "metadata": {},
   "outputs": [],
   "source": [
    "\n",
    "def get_topics_page():\n",
    "    # Start Downloading the page\n",
    "    topic_url = 'https://github.com/topics'\n",
    "    response = requests.get(topic_url)\n",
    "    # Check  the successful response\n",
    "    if(response.status_code != 200):\n",
    "        raise Exception('Failed to load page {}'.format(topic_url))\n",
    "        \n",
    "    # Parse the document using beautiful soup\n",
    "    doc = BeautifulSoup(response.text, 'html.parser')\n",
    "    return doc"
   ]
  },
  {
   "cell_type": "code",
   "execution_count": null,
   "id": "12e05154",
   "metadata": {},
   "outputs": [],
   "source": []
  },
  {
   "cell_type": "code",
   "execution_count": 5,
   "id": "4f893165",
   "metadata": {},
   "outputs": [],
   "source": [
    "doc  = get_topics_page()"
   ]
  },
  {
   "attachments": {
    "p_tag.PNG": {
     "image/png": "[encoded data removed]"
    }
   },
   "cell_type": "markdown",
   "id": "94a99619",
   "metadata": {},
   "source": [
    "Let's create some helper functions to parse information from the page.\n",
    "\n",
    "To get topic titles, we can pick p tags with the class ...\n",
    "![p_tag.PNG](attachment:p_tag.PNG)"
   ]
  },
  {
   "attachments": {
    "p.png": {
     "image/png": "[encoded data removed]"
    }
   },
   "cell_type": "markdown",
   "id": "a566b1ce",
   "metadata": {},
   "source": [
    "![p.png](attachment:p.png)"
   ]
  },
  {
   "cell_type": "code",
   "execution_count": 6,
   "id": "1a89c63f",
   "metadata": {},
   "outputs": [],
   "source": [
    "def get_topic_titles(doc):\n",
    "    selection_class = 'f3 lh-condensed mb-0 mt-1 Link--primary'\n",
    "    topic_title_tags = doc.find_all('p', {'class': selection_class})\n",
    "    topic_titles = []\n",
    "    for tag in topic_title_tags:\n",
    "        topic_titles.append(tag.text)\n",
    "    return topic_titles"
   ]
  },
  {
   "cell_type": "markdown",
   "id": "3faf39b8",
   "metadata": {},
   "source": [
    "- we use <b>get_topic_title</b> function to get the list of titles"
   ]
  },
  {
   "cell_type": "code",
   "execution_count": 7,
   "id": "a290e0b9",
   "metadata": {},
   "outputs": [],
   "source": [
    "titles = get_topic_titles(doc)"
   ]
  },
  {
   "cell_type": "code",
   "execution_count": 8,
   "id": "72d206d3",
   "metadata": {},
   "outputs": [
    {
     "data": {
      "text/plain": [
       "30"
      ]
     },
     "execution_count": 8,
     "metadata": {},
     "output_type": "execute_result"
    }
   ],
   "source": [
    "len(titles)"
   ]
  },
  {
   "cell_type": "code",
   "execution_count": 9,
   "id": "b8afd9df",
   "metadata": {},
   "outputs": [
    {
     "data": {
      "text/plain": [
       "['3D', 'Ajax', 'Algorithm', 'Amp', 'Android']"
      ]
     },
     "execution_count": 9,
     "metadata": {},
     "output_type": "execute_result"
    }
   ],
   "source": [
    "titles[:5]"
   ]
  },
  {
   "cell_type": "markdown",
   "id": "9f7ef93c",
   "metadata": {},
   "source": [
    "- we use <b>get_topic_desc</b> function to get the descriptions"
   ]
  },
  {
   "cell_type": "code",
   "execution_count": 10,
   "id": "8fc0cfb7",
   "metadata": {},
   "outputs": [],
   "source": [
    "def get_topic_descs(doc):\n",
    "    desc_selector = 'f5 color-fg-muted mb-0 mt-1'\n",
    "    topic_desc_tags = doc.find_all('p',{'class':desc_selector})\n",
    "    topic_descs = []\n",
    "    for tag in topic_desc_tags:\n",
    "        topic_descs.append(tag.text.strip())\n",
    "    return topic_descs"
   ]
  },
  {
   "cell_type": "markdown",
   "id": "e811d9b2",
   "metadata": {},
   "source": [
    "- we use <b>get_topic_urls</b> function to get the urls of each topic"
   ]
  },
  {
   "cell_type": "code",
   "execution_count": 11,
   "id": "a0cd687b",
   "metadata": {},
   "outputs": [],
   "source": [
    "def get_topic_urls(doc):\n",
    "    topic_link_tags = doc.find_all('a',{'class':'d-flex no-underline'})\n",
    "    topic_urls = []\n",
    "    base_url = 'https://github.com'\n",
    "    \n",
    "    for tag in topic_link_tags:\n",
    "        topic_urls.append(base_url + tag['href'])\n",
    "    return topic_urls"
   ]
  },
  {
   "cell_type": "markdown",
   "id": "4530155c",
   "metadata": {},
   "source": [
    "- Lets scrape the whole thing using a single functions"
   ]
  },
  {
   "cell_type": "code",
   "execution_count": 12,
   "id": "a8002e8f",
   "metadata": {},
   "outputs": [],
   "source": [
    "def scrape_topics():\n",
    "    topics_url = 'https://github.com/topics' \n",
    "    response = requests.get(topics_url)\n",
    "    if response.status_code != 200:\n",
    "        raise Exceptional(\"Failed to load page {}\".format(topic_url))\n",
    "    topics_dict = {\n",
    "        'title':get_topic_titles(doc),\n",
    "        'description':get_topic_descs(doc),\n",
    "        'url':get_topic_urls(doc)\n",
    "    }\n",
    "    return pd.DataFrame(topics_dict)"
   ]
  },
  {
   "cell_type": "markdown",
   "id": "cc1fa94e",
   "metadata": {},
   "source": [
    "## Get the top 25 repositories in the topic from the topic page"
   ]
  },
  {
   "cell_type": "code",
   "execution_count": 13,
   "id": "c3d3b8d9",
   "metadata": {},
   "outputs": [],
   "source": [
    "def get_topics_page(topic_url):\n",
    "    # Start Downloading the page\n",
    "    response = requests.get(topic_url)\n",
    "    \n",
    "    # Check  the successful response\n",
    "    if(response.status_code != 200):\n",
    "        raise Exception('Failed to load page {}'.format(topic_url))\n",
    "        \n",
    "    # Parse the document using beautiful soup\n",
    "    topic_doc = BeautifulSoup(response.text, 'html.parser')\n",
    "    return topic_doc"
   ]
  },
  {
   "cell_type": "code",
   "execution_count": 15,
   "id": "02d2c52a",
   "metadata": {},
   "outputs": [],
   "source": [
    "doc = get_topics_page('https://github.com/topics/3d')"
   ]
  },
  {
   "cell_type": "code",
   "execution_count": 16,
   "id": "175a4426",
   "metadata": {},
   "outputs": [],
   "source": [
    "def get_repo_info(h3_tag,star_tag):\n",
    "        # it will return all the required infor about a reposiory\n",
    "        a_tags = h3_tag.find_all('a')\n",
    "        username = a_tags[0].text.strip()\n",
    "        repo_name = a_tags[1].text.strip()\n",
    "        repo_url = base_url + a_tags[1]['href']\n",
    "        stars = parse_star_count(star_tag.text.strip())\n",
    "        return username,repo_name,stars,repo_url"
   ]
  },
  {
   "cell_type": "code",
   "execution_count": 17,
   "id": "35e4ff0d",
   "metadata": {},
   "outputs": [],
   "source": [
    "def get_topic_repos(topic_doc):\n",
    "    \n",
    "    # Get the h3 tags containing repo-title, repo-url, and username\n",
    "    h3_selection_class = 'f3 color-fg-muted text-normal lh-condensed'\n",
    "    \n",
    "    repo_tags = topic_doc.find_all('h3',{'class': h3_selection_class}) \n",
    "    \n",
    "    # get the info of star tag\n",
    "    star_tags =topic_doc.find_all('a',{'class':'social-count float-none'})\n",
    "    \n",
    "    topic_repos_dict = {\n",
    "        'username' : [],\n",
    "        'repo_name': [],\n",
    "        'stars':[],\n",
    "        'repo_url':[]\n",
    "    }\n",
    "\n",
    "    for i in range(len(repo_tags)):\n",
    "        repo_info = get_repo_info(repo_tags[i],star_tags[i])\n",
    "        topic_repos_dict['username'].append(repo_info[0])\n",
    "        topic_repos_dict['repo_name'].append(repo_info[1])\n",
    "        topic_repos_dict['stars'].append(repo_info[2])\n",
    "        topic_repos_dict['repo_url'].append(repo_info[3])\n",
    "    return pd.DataFrame(topic_repos_dict)"
   ]
  },
  {
   "cell_type": "code",
   "execution_count": 18,
   "id": "e16cdbe3",
   "metadata": {},
   "outputs": [],
   "source": [
    "def scrape_topic(topic_url,topic_name):\n",
    "    fname = topic_name + '.csv'\n",
    "    if os.path.exists(fname):\n",
    "        print(\"The file{} already exists. Skipping------\".format(fname))\n",
    "        return\n",
    "    \n",
    "    topic_df = get_topic_repos(get_topics_page(topic_url))\n",
    "    topic_df.to_csv(fname,index = None)"
   ]
  },
  {
   "cell_type": "markdown",
   "id": "7e1aef3a",
   "metadata": {},
   "source": [
    "### Putting it all together\n",
    "- We create a function to get the list og topics\n",
    "- We have a function to create a CSV file for scraped repos from a topics page\n",
    "- Let's create a function to put them together"
   ]
  },
  {
   "cell_type": "code",
   "execution_count": 22,
   "id": "b74debdf",
   "metadata": {},
   "outputs": [],
   "source": [
    "def scrape_topics_repos():\n",
    "    print('Scraping list of topics')\n",
    "    topics_df = scrape_topics()\n",
    "    for index, row in topics_df.iterrows():\n",
    "        print('Scraping top repositories for\"{}\"'.format(row['title']))\n",
    "        scrape_topic(row['url'],row['title'])"
   ]
  },
  {
   "cell_type": "markdown",
   "id": "07da52e3",
   "metadata": {},
   "source": [
    "## Lets run it to scrape the top repos for all the topics on the the first page of https://github.com/topics"
   ]
  },
  {
   "cell_type": "code",
   "execution_count": 23,
   "id": "dee1e79d",
   "metadata": {},
   "outputs": [
    {
     "name": "stdout",
     "output_type": "stream",
     "text": [
      "Scraping list of topics\n"
     ]
    }
   ],
   "source": [
    "scrape_topics_repos()"
   ]
  },
  {
   "cell_type": "markdown",
   "id": "a5c1ab2f",
   "metadata": {},
   "source": [
    "# References  and Future work\n",
    "\n",
    "\n",
    "Ideas for future work\n",
    "- We create an interactive UI Web application for the fresh undergraduates to be a part of the open source community.\n",
    "- We can enhance this work for research purposes\n",
    "\n",
    "\n",
    "Bibliography\n",
    "- https://jupyter.org/documentation\n",
    "- https://pandas.pydata.org/\n",
    "- https://github.com/\n"
   ]
  },
  {
   "cell_type": "code",
   "execution_count": null,
   "id": "42e056d2",
   "metadata": {},
   "outputs": [],
   "source": []
  }
 ],
 "metadata": {
  "kernelspec": {
   "display_name": "Python 3",
   "language": "python",
   "name": "python3"
  },
  "language_info": {
   "codemirror_mode": {
    "name": "ipython",
    "version": 3
   },
   "file_extension": ".py",
   "mimetype": "text/x-python",
   "name": "python",
   "nbconvert_exporter": "python",
   "pygments_lexer": "ipython3",
   "version": "3.8.8"
  }
 },
 "nbformat": 4,
 "nbformat_minor": 5
}
